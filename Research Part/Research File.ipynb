{
 "cells": [
  {
   "cell_type": "code",
   "execution_count": 73,
   "metadata": {},
   "outputs": [],
   "source": [
    "import pandas as pd\n",
    "import math"
   ]
  },
  {
   "cell_type": "markdown",
   "metadata": {},
   "source": [
    "These data were collected manually from a retail electronic shop named \"Samir Electronics\", located in Madhabpur, Habiganj. Which is a distributor of a renowed electronic brand in Bangladesh named \"Walton\".\n",
    "First step is converting the raw csv files to a proper dataset.\n",
    "\n",
    "These csv files represents data for an individual year and contains columns as \"Date\", \"Amount\", \"Model No1\", \"Model No2\", \"Model No3\", and so on."
   ]
  },
  {
   "cell_type": "code",
   "execution_count": 67,
   "metadata": {},
   "outputs": [],
   "source": [
    "# Reading individual csv files and converting to dataframes.\n",
    "\n",
    "yearlySales1 = pd.read_csv('dataset/Project Dataset/2022_23.csv')\n",
    "yearlySales2 = pd.read_csv('dataset/Project Dataset/2023_24.csv')"
   ]
  },
  {
   "cell_type": "code",
   "execution_count": 68,
   "metadata": {},
   "outputs": [],
   "source": [
    "# Contating all dataframes together to a single dataframe.\n",
    "\n",
    "salesData = pd.concat([yearlySales1, yearlySales2]).reset_index(drop=True)"
   ]
  },
  {
   "cell_type": "code",
   "execution_count": 69,
   "metadata": {},
   "outputs": [
    {
     "name": "stdout",
     "output_type": "stream",
     "text": [
      "['Padestal Fan', 'Wash', 'Beverage Cooler', '1B6']\n"
     ]
    }
   ],
   "source": [
    "# Checking which columns do not have any sales data.\n",
    "\n",
    "emptyColumns = []\n",
    "for i in salesData.columns:\n",
    "    if i != \"Date\" and salesData[i].sum() == 0:\n",
    "        emptyColumns.append(i)\n",
    "\n",
    "print(emptyColumns)"
   ]
  },
  {
   "cell_type": "code",
   "execution_count": 70,
   "metadata": {},
   "outputs": [
    {
     "name": "stdout",
     "output_type": "stream",
     "text": [
      "Index(['Date', 'Amount', 'Multiplug', 'Mobile P16', 'Mobile N5', 'Mobile H10',\n",
      "       'Speaker', 'Light Bulb', 'Weight Scale', 'Tornedo Fan',\n",
      "       ...\n",
      "       '3J0GDEL DD', '5F3GDEL', '5F3GDEL-DD', 'Air Cooler', '18 A AC',\n",
      "       '18 C AC', '12 C AC', '24 B AC', '24 C AC', '18 F AC'],\n",
      "      dtype='object', length=125)\n"
     ]
    }
   ],
   "source": [
    "# Removing unnecessary emtpy columns.\n",
    "\n",
    "salesData = salesData.drop(columns = emptyColumns)\n",
    "print(salesData.columns)"
   ]
  },
  {
   "cell_type": "code",
   "execution_count": 78,
   "metadata": {},
   "outputs": [],
   "source": [
    "# Making the dataset file.\n",
    "\n",
    "dataset = \"Date,Model,Quantity\\n\"\n",
    "for index in salesData.index:\n",
    "    for column in salesData.columns:\n",
    "        if column != \"Date\" and column != \"Amount\":\n",
    "            value = salesData[column][index]\n",
    "            quantity = 0\n",
    "            if not math.isnan(value):\n",
    "                quantity = value\n",
    "            dataset += salesData[\"Date\"][index] + \",\" + column + \",\" + str(quantity) + \"\\n\"\n",
    "\n",
    "f = open(\"dataset/Project Dataset/sales_data.csv\", \"w\")\n",
    "f.write(dataset)\n",
    "f.close()\n"
   ]
  }
 ],
 "metadata": {
  "kernelspec": {
   "display_name": "Python 3",
   "language": "python",
   "name": "python3"
  },
  "language_info": {
   "codemirror_mode": {
    "name": "ipython",
    "version": 3
   },
   "file_extension": ".py",
   "mimetype": "text/x-python",
   "name": "python",
   "nbconvert_exporter": "python",
   "pygments_lexer": "ipython3",
   "version": "3.11.9"
  }
 },
 "nbformat": 4,
 "nbformat_minor": 2
}
