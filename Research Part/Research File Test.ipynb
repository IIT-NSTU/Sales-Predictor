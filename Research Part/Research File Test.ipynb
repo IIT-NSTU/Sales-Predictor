{
 "cells": [
  {
   "cell_type": "code",
   "execution_count": 75,
   "metadata": {},
   "outputs": [],
   "source": [
    "import pandas as pd\n",
    "import numpy as np\n",
    "from sklearn.model_selection import train_test_split\n",
    "from sklearn.preprocessing import StandardScaler\n",
    "from sklearn.linear_model import SGDRegressor\n",
    "from sklearn.ensemble import RandomForestClassifier\n",
    "from sklearn.metrics import classification_report, mean_absolute_error"
   ]
  },
  {
   "cell_type": "code",
   "execution_count": 76,
   "metadata": {},
   "outputs": [],
   "source": [
    "sales_data = pd.read_csv('dataset/Project Dataset/sales_data.csv')\n",
    "amount_data = pd.read_csv('dataset/Project Dataset/amount_data.csv')"
   ]
  },
  {
   "cell_type": "code",
   "execution_count": 77,
   "metadata": {},
   "outputs": [
    {
     "data": {
      "text/html": [
       "<div>\n",
       "<style scoped>\n",
       "    .dataframe tbody tr th:only-of-type {\n",
       "        vertical-align: middle;\n",
       "    }\n",
       "\n",
       "    .dataframe tbody tr th {\n",
       "        vertical-align: top;\n",
       "    }\n",
       "\n",
       "    .dataframe thead th {\n",
       "        text-align: right;\n",
       "    }\n",
       "</style>\n",
       "<table border=\"1\" class=\"dataframe\">\n",
       "  <thead>\n",
       "    <tr style=\"text-align: right;\">\n",
       "      <th></th>\n",
       "      <th>Date</th>\n",
       "      <th>Model</th>\n",
       "      <th>Quantity</th>\n",
       "    </tr>\n",
       "  </thead>\n",
       "  <tbody>\n",
       "    <tr>\n",
       "      <th>0</th>\n",
       "      <td>2022-04-01</td>\n",
       "      <td>18 F AC</td>\n",
       "      <td>0.0</td>\n",
       "    </tr>\n",
       "    <tr>\n",
       "      <th>1</th>\n",
       "      <td>2022-04-01</td>\n",
       "      <td>3X7NEXX</td>\n",
       "      <td>0.0</td>\n",
       "    </tr>\n",
       "    <tr>\n",
       "      <th>2</th>\n",
       "      <td>2022-04-01</td>\n",
       "      <td>2T5GDEL</td>\n",
       "      <td>0.0</td>\n",
       "    </tr>\n",
       "    <tr>\n",
       "      <th>3</th>\n",
       "      <td>2022-04-01</td>\n",
       "      <td>2T5RRLX-GX</td>\n",
       "      <td>0.0</td>\n",
       "    </tr>\n",
       "    <tr>\n",
       "      <th>4</th>\n",
       "      <td>2022-04-01</td>\n",
       "      <td>2T5RRLX-XX</td>\n",
       "      <td>0.0</td>\n",
       "    </tr>\n",
       "    <tr>\n",
       "      <th>...</th>\n",
       "      <td>...</td>\n",
       "      <td>...</td>\n",
       "      <td>...</td>\n",
       "    </tr>\n",
       "    <tr>\n",
       "      <th>93598</th>\n",
       "      <td>2024-04-30</td>\n",
       "      <td>40 inch LED</td>\n",
       "      <td>0.0</td>\n",
       "    </tr>\n",
       "    <tr>\n",
       "      <th>93599</th>\n",
       "      <td>2024-04-30</td>\n",
       "      <td>32 inch LED</td>\n",
       "      <td>0.0</td>\n",
       "    </tr>\n",
       "    <tr>\n",
       "      <th>93600</th>\n",
       "      <td>2024-04-30</td>\n",
       "      <td>Multiplug</td>\n",
       "      <td>0.0</td>\n",
       "    </tr>\n",
       "    <tr>\n",
       "      <th>93601</th>\n",
       "      <td>2024-04-30</td>\n",
       "      <td>1D4GDEH</td>\n",
       "      <td>1.0</td>\n",
       "    </tr>\n",
       "    <tr>\n",
       "      <th>93602</th>\n",
       "      <td>2024-04-30</td>\n",
       "      <td>24 inch LED</td>\n",
       "      <td>0.0</td>\n",
       "    </tr>\n",
       "  </tbody>\n",
       "</table>\n",
       "<p>93603 rows × 3 columns</p>\n",
       "</div>"
      ],
      "text/plain": [
       "            Date        Model  Quantity\n",
       "0     2022-04-01      18 F AC       0.0\n",
       "1     2022-04-01      3X7NEXX       0.0\n",
       "2     2022-04-01      2T5GDEL       0.0\n",
       "3     2022-04-01   2T5RRLX-GX       0.0\n",
       "4     2022-04-01   2T5RRLX-XX       0.0\n",
       "...          ...          ...       ...\n",
       "93598 2024-04-30  40 inch LED       0.0\n",
       "93599 2024-04-30  32 inch LED       0.0\n",
       "93600 2024-04-30    Multiplug       0.0\n",
       "93601 2024-04-30      1D4GDEH       1.0\n",
       "93602 2024-04-30  24 inch LED       0.0\n",
       "\n",
       "[93603 rows x 3 columns]"
      ]
     },
     "execution_count": 77,
     "metadata": {},
     "output_type": "execute_result"
    }
   ],
   "source": [
    "sales_data['Date'] = pd.to_datetime(sales_data['Date'], dayfirst = True)\n",
    "sales_data = sales_data.sort_values(by = 'Date')\n",
    "sales_data = sales_data.reset_index().drop(columns=['index'])\n",
    "sales_data"
   ]
  },
  {
   "cell_type": "code",
   "execution_count": 78,
   "metadata": {},
   "outputs": [
    {
     "data": {
      "text/html": [
       "<div>\n",
       "<style scoped>\n",
       "    .dataframe tbody tr th:only-of-type {\n",
       "        vertical-align: middle;\n",
       "    }\n",
       "\n",
       "    .dataframe tbody tr th {\n",
       "        vertical-align: top;\n",
       "    }\n",
       "\n",
       "    .dataframe thead th {\n",
       "        text-align: right;\n",
       "    }\n",
       "</style>\n",
       "<table border=\"1\" class=\"dataframe\">\n",
       "  <thead>\n",
       "    <tr style=\"text-align: right;\">\n",
       "      <th></th>\n",
       "      <th>Date</th>\n",
       "      <th>Amount</th>\n",
       "    </tr>\n",
       "  </thead>\n",
       "  <tbody>\n",
       "    <tr>\n",
       "      <th>0</th>\n",
       "      <td>2022-04-01</td>\n",
       "      <td>0</td>\n",
       "    </tr>\n",
       "    <tr>\n",
       "      <th>1</th>\n",
       "      <td>2022-04-02</td>\n",
       "      <td>239400</td>\n",
       "    </tr>\n",
       "    <tr>\n",
       "      <th>2</th>\n",
       "      <td>2022-04-03</td>\n",
       "      <td>274140</td>\n",
       "    </tr>\n",
       "    <tr>\n",
       "      <th>3</th>\n",
       "      <td>2022-04-04</td>\n",
       "      <td>177000</td>\n",
       "    </tr>\n",
       "    <tr>\n",
       "      <th>4</th>\n",
       "      <td>2022-04-05</td>\n",
       "      <td>106000</td>\n",
       "    </tr>\n",
       "    <tr>\n",
       "      <th>...</th>\n",
       "      <td>...</td>\n",
       "      <td>...</td>\n",
       "    </tr>\n",
       "    <tr>\n",
       "      <th>756</th>\n",
       "      <td>2024-04-26</td>\n",
       "      <td>0</td>\n",
       "    </tr>\n",
       "    <tr>\n",
       "      <th>757</th>\n",
       "      <td>2024-04-27</td>\n",
       "      <td>582650</td>\n",
       "    </tr>\n",
       "    <tr>\n",
       "      <th>758</th>\n",
       "      <td>2024-04-28</td>\n",
       "      <td>367700</td>\n",
       "    </tr>\n",
       "    <tr>\n",
       "      <th>759</th>\n",
       "      <td>2024-04-29</td>\n",
       "      <td>451000</td>\n",
       "    </tr>\n",
       "    <tr>\n",
       "      <th>760</th>\n",
       "      <td>2024-04-30</td>\n",
       "      <td>496000</td>\n",
       "    </tr>\n",
       "  </tbody>\n",
       "</table>\n",
       "<p>761 rows × 2 columns</p>\n",
       "</div>"
      ],
      "text/plain": [
       "          Date  Amount\n",
       "0   2022-04-01       0\n",
       "1   2022-04-02  239400\n",
       "2   2022-04-03  274140\n",
       "3   2022-04-04  177000\n",
       "4   2022-04-05  106000\n",
       "..         ...     ...\n",
       "756 2024-04-26       0\n",
       "757 2024-04-27  582650\n",
       "758 2024-04-28  367700\n",
       "759 2024-04-29  451000\n",
       "760 2024-04-30  496000\n",
       "\n",
       "[761 rows x 2 columns]"
      ]
     },
     "execution_count": 78,
     "metadata": {},
     "output_type": "execute_result"
    }
   ],
   "source": [
    "amount_data['Date'] = pd.to_datetime(amount_data['Date'], dayfirst = True)\n",
    "amount_data = amount_data.sort_values(by = 'Date')\n",
    "amount_data = amount_data.reset_index().drop(columns=['index'])\n",
    "amount_data"
   ]
  },
  {
   "cell_type": "code",
   "execution_count": 79,
   "metadata": {},
   "outputs": [],
   "source": [
    "sales_data_matrix = sales_data.pivot_table(index = 'Date', columns = 'Model', values = 'Quantity', aggfunc = 'sum', fill_value = 0).reset_index()\n",
    "sales_data_matrix\n",
    "data = pd.merge(sales_data_matrix, amount_data, on = 'Date', how = 'inner')"
   ]
  },
  {
   "cell_type": "code",
   "execution_count": 80,
   "metadata": {},
   "outputs": [
    {
     "data": {
      "text/html": [
       "<div>\n",
       "<style scoped>\n",
       "    .dataframe tbody tr th:only-of-type {\n",
       "        vertical-align: middle;\n",
       "    }\n",
       "\n",
       "    .dataframe tbody tr th {\n",
       "        vertical-align: top;\n",
       "    }\n",
       "\n",
       "    .dataframe thead th {\n",
       "        text-align: right;\n",
       "    }\n",
       "</style>\n",
       "<table border=\"1\" class=\"dataframe\">\n",
       "  <thead>\n",
       "    <tr style=\"text-align: right;\">\n",
       "      <th></th>\n",
       "      <th>12 C AC</th>\n",
       "      <th>12 inch Fan</th>\n",
       "      <th>14 inch Fan</th>\n",
       "      <th>17 inch Fan</th>\n",
       "      <th>18 A AC</th>\n",
       "      <th>18 C AC</th>\n",
       "      <th>18 F AC</th>\n",
       "      <th>1B3GDEL</th>\n",
       "      <th>1B6GDEH</th>\n",
       "      <th>1B6GDEL</th>\n",
       "      <th>...</th>\n",
       "      <th>Stand Fan</th>\n",
       "      <th>Tornedo Fan</th>\n",
       "      <th>Wall Move</th>\n",
       "      <th>Washing Machine</th>\n",
       "      <th>Water Filter</th>\n",
       "      <th>Weight Scale</th>\n",
       "      <th>Amount</th>\n",
       "      <th>day_of_year</th>\n",
       "      <th>month</th>\n",
       "      <th>day_of_week</th>\n",
       "    </tr>\n",
       "  </thead>\n",
       "  <tbody>\n",
       "    <tr>\n",
       "      <th>0</th>\n",
       "      <td>0.0</td>\n",
       "      <td>0.0</td>\n",
       "      <td>0.0</td>\n",
       "      <td>0.0</td>\n",
       "      <td>0.0</td>\n",
       "      <td>0.0</td>\n",
       "      <td>0.0</td>\n",
       "      <td>0.0</td>\n",
       "      <td>0.0</td>\n",
       "      <td>0.0</td>\n",
       "      <td>...</td>\n",
       "      <td>0.0</td>\n",
       "      <td>0.0</td>\n",
       "      <td>0.0</td>\n",
       "      <td>0.0</td>\n",
       "      <td>0.0</td>\n",
       "      <td>0.0</td>\n",
       "      <td>0</td>\n",
       "      <td>91</td>\n",
       "      <td>4</td>\n",
       "      <td>4</td>\n",
       "    </tr>\n",
       "    <tr>\n",
       "      <th>1</th>\n",
       "      <td>0.0</td>\n",
       "      <td>0.0</td>\n",
       "      <td>1.0</td>\n",
       "      <td>0.0</td>\n",
       "      <td>0.0</td>\n",
       "      <td>0.0</td>\n",
       "      <td>0.0</td>\n",
       "      <td>0.0</td>\n",
       "      <td>0.0</td>\n",
       "      <td>0.0</td>\n",
       "      <td>...</td>\n",
       "      <td>0.0</td>\n",
       "      <td>0.0</td>\n",
       "      <td>0.0</td>\n",
       "      <td>0.0</td>\n",
       "      <td>0.0</td>\n",
       "      <td>0.0</td>\n",
       "      <td>239400</td>\n",
       "      <td>92</td>\n",
       "      <td>4</td>\n",
       "      <td>5</td>\n",
       "    </tr>\n",
       "    <tr>\n",
       "      <th>2</th>\n",
       "      <td>0.0</td>\n",
       "      <td>0.0</td>\n",
       "      <td>1.0</td>\n",
       "      <td>0.0</td>\n",
       "      <td>0.0</td>\n",
       "      <td>1.0</td>\n",
       "      <td>0.0</td>\n",
       "      <td>0.0</td>\n",
       "      <td>0.0</td>\n",
       "      <td>0.0</td>\n",
       "      <td>...</td>\n",
       "      <td>0.0</td>\n",
       "      <td>0.0</td>\n",
       "      <td>0.0</td>\n",
       "      <td>0.0</td>\n",
       "      <td>0.0</td>\n",
       "      <td>0.0</td>\n",
       "      <td>274140</td>\n",
       "      <td>93</td>\n",
       "      <td>4</td>\n",
       "      <td>6</td>\n",
       "    </tr>\n",
       "    <tr>\n",
       "      <th>3</th>\n",
       "      <td>0.0</td>\n",
       "      <td>0.0</td>\n",
       "      <td>0.0</td>\n",
       "      <td>1.0</td>\n",
       "      <td>0.0</td>\n",
       "      <td>0.0</td>\n",
       "      <td>0.0</td>\n",
       "      <td>0.0</td>\n",
       "      <td>0.0</td>\n",
       "      <td>0.0</td>\n",
       "      <td>...</td>\n",
       "      <td>1.0</td>\n",
       "      <td>0.0</td>\n",
       "      <td>0.0</td>\n",
       "      <td>1.0</td>\n",
       "      <td>0.0</td>\n",
       "      <td>0.0</td>\n",
       "      <td>177000</td>\n",
       "      <td>94</td>\n",
       "      <td>4</td>\n",
       "      <td>0</td>\n",
       "    </tr>\n",
       "    <tr>\n",
       "      <th>4</th>\n",
       "      <td>0.0</td>\n",
       "      <td>0.0</td>\n",
       "      <td>0.0</td>\n",
       "      <td>1.0</td>\n",
       "      <td>0.0</td>\n",
       "      <td>0.0</td>\n",
       "      <td>0.0</td>\n",
       "      <td>0.0</td>\n",
       "      <td>0.0</td>\n",
       "      <td>0.0</td>\n",
       "      <td>...</td>\n",
       "      <td>0.0</td>\n",
       "      <td>0.0</td>\n",
       "      <td>0.0</td>\n",
       "      <td>0.0</td>\n",
       "      <td>0.0</td>\n",
       "      <td>0.0</td>\n",
       "      <td>106000</td>\n",
       "      <td>95</td>\n",
       "      <td>4</td>\n",
       "      <td>1</td>\n",
       "    </tr>\n",
       "    <tr>\n",
       "      <th>...</th>\n",
       "      <td>...</td>\n",
       "      <td>...</td>\n",
       "      <td>...</td>\n",
       "      <td>...</td>\n",
       "      <td>...</td>\n",
       "      <td>...</td>\n",
       "      <td>...</td>\n",
       "      <td>...</td>\n",
       "      <td>...</td>\n",
       "      <td>...</td>\n",
       "      <td>...</td>\n",
       "      <td>...</td>\n",
       "      <td>...</td>\n",
       "      <td>...</td>\n",
       "      <td>...</td>\n",
       "      <td>...</td>\n",
       "      <td>...</td>\n",
       "      <td>...</td>\n",
       "      <td>...</td>\n",
       "      <td>...</td>\n",
       "      <td>...</td>\n",
       "    </tr>\n",
       "    <tr>\n",
       "      <th>756</th>\n",
       "      <td>0.0</td>\n",
       "      <td>0.0</td>\n",
       "      <td>0.0</td>\n",
       "      <td>0.0</td>\n",
       "      <td>0.0</td>\n",
       "      <td>0.0</td>\n",
       "      <td>0.0</td>\n",
       "      <td>0.0</td>\n",
       "      <td>0.0</td>\n",
       "      <td>0.0</td>\n",
       "      <td>...</td>\n",
       "      <td>0.0</td>\n",
       "      <td>0.0</td>\n",
       "      <td>0.0</td>\n",
       "      <td>0.0</td>\n",
       "      <td>0.0</td>\n",
       "      <td>0.0</td>\n",
       "      <td>0</td>\n",
       "      <td>117</td>\n",
       "      <td>4</td>\n",
       "      <td>4</td>\n",
       "    </tr>\n",
       "    <tr>\n",
       "      <th>757</th>\n",
       "      <td>0.0</td>\n",
       "      <td>0.0</td>\n",
       "      <td>3.0</td>\n",
       "      <td>11.0</td>\n",
       "      <td>1.0</td>\n",
       "      <td>4.0</td>\n",
       "      <td>0.0</td>\n",
       "      <td>0.0</td>\n",
       "      <td>0.0</td>\n",
       "      <td>1.0</td>\n",
       "      <td>...</td>\n",
       "      <td>2.0</td>\n",
       "      <td>0.0</td>\n",
       "      <td>0.0</td>\n",
       "      <td>1.0</td>\n",
       "      <td>0.0</td>\n",
       "      <td>0.0</td>\n",
       "      <td>582650</td>\n",
       "      <td>118</td>\n",
       "      <td>4</td>\n",
       "      <td>5</td>\n",
       "    </tr>\n",
       "    <tr>\n",
       "      <th>758</th>\n",
       "      <td>1.0</td>\n",
       "      <td>0.0</td>\n",
       "      <td>2.0</td>\n",
       "      <td>20.0</td>\n",
       "      <td>0.0</td>\n",
       "      <td>1.0</td>\n",
       "      <td>0.0</td>\n",
       "      <td>0.0</td>\n",
       "      <td>0.0</td>\n",
       "      <td>1.0</td>\n",
       "      <td>...</td>\n",
       "      <td>1.0</td>\n",
       "      <td>0.0</td>\n",
       "      <td>0.0</td>\n",
       "      <td>0.0</td>\n",
       "      <td>0.0</td>\n",
       "      <td>0.0</td>\n",
       "      <td>367700</td>\n",
       "      <td>119</td>\n",
       "      <td>4</td>\n",
       "      <td>6</td>\n",
       "    </tr>\n",
       "    <tr>\n",
       "      <th>759</th>\n",
       "      <td>0.0</td>\n",
       "      <td>0.0</td>\n",
       "      <td>5.0</td>\n",
       "      <td>25.0</td>\n",
       "      <td>0.0</td>\n",
       "      <td>0.0</td>\n",
       "      <td>0.0</td>\n",
       "      <td>0.0</td>\n",
       "      <td>0.0</td>\n",
       "      <td>0.0</td>\n",
       "      <td>...</td>\n",
       "      <td>0.0</td>\n",
       "      <td>0.0</td>\n",
       "      <td>0.0</td>\n",
       "      <td>0.0</td>\n",
       "      <td>0.0</td>\n",
       "      <td>0.0</td>\n",
       "      <td>451000</td>\n",
       "      <td>120</td>\n",
       "      <td>4</td>\n",
       "      <td>0</td>\n",
       "    </tr>\n",
       "    <tr>\n",
       "      <th>760</th>\n",
       "      <td>0.0</td>\n",
       "      <td>0.0</td>\n",
       "      <td>11.0</td>\n",
       "      <td>38.0</td>\n",
       "      <td>0.0</td>\n",
       "      <td>0.0</td>\n",
       "      <td>0.0</td>\n",
       "      <td>0.0</td>\n",
       "      <td>0.0</td>\n",
       "      <td>1.0</td>\n",
       "      <td>...</td>\n",
       "      <td>1.0</td>\n",
       "      <td>0.0</td>\n",
       "      <td>0.0</td>\n",
       "      <td>0.0</td>\n",
       "      <td>0.0</td>\n",
       "      <td>0.0</td>\n",
       "      <td>496000</td>\n",
       "      <td>121</td>\n",
       "      <td>4</td>\n",
       "      <td>1</td>\n",
       "    </tr>\n",
       "  </tbody>\n",
       "</table>\n",
       "<p>761 rows × 127 columns</p>\n",
       "</div>"
      ],
      "text/plain": [
       "     12 C AC  12 inch Fan  14 inch Fan  17 inch Fan  18 A AC  18 C AC  \\\n",
       "0        0.0          0.0          0.0          0.0      0.0      0.0   \n",
       "1        0.0          0.0          1.0          0.0      0.0      0.0   \n",
       "2        0.0          0.0          1.0          0.0      0.0      1.0   \n",
       "3        0.0          0.0          0.0          1.0      0.0      0.0   \n",
       "4        0.0          0.0          0.0          1.0      0.0      0.0   \n",
       "..       ...          ...          ...          ...      ...      ...   \n",
       "756      0.0          0.0          0.0          0.0      0.0      0.0   \n",
       "757      0.0          0.0          3.0         11.0      1.0      4.0   \n",
       "758      1.0          0.0          2.0         20.0      0.0      1.0   \n",
       "759      0.0          0.0          5.0         25.0      0.0      0.0   \n",
       "760      0.0          0.0         11.0         38.0      0.0      0.0   \n",
       "\n",
       "     18 F AC  1B3GDEL  1B6GDEH  1B6GDEL  ...  Stand Fan  Tornedo Fan  \\\n",
       "0        0.0      0.0      0.0      0.0  ...        0.0          0.0   \n",
       "1        0.0      0.0      0.0      0.0  ...        0.0          0.0   \n",
       "2        0.0      0.0      0.0      0.0  ...        0.0          0.0   \n",
       "3        0.0      0.0      0.0      0.0  ...        1.0          0.0   \n",
       "4        0.0      0.0      0.0      0.0  ...        0.0          0.0   \n",
       "..       ...      ...      ...      ...  ...        ...          ...   \n",
       "756      0.0      0.0      0.0      0.0  ...        0.0          0.0   \n",
       "757      0.0      0.0      0.0      1.0  ...        2.0          0.0   \n",
       "758      0.0      0.0      0.0      1.0  ...        1.0          0.0   \n",
       "759      0.0      0.0      0.0      0.0  ...        0.0          0.0   \n",
       "760      0.0      0.0      0.0      1.0  ...        1.0          0.0   \n",
       "\n",
       "     Wall Move  Washing Machine  Water Filter  Weight Scale  Amount  \\\n",
       "0          0.0              0.0           0.0           0.0       0   \n",
       "1          0.0              0.0           0.0           0.0  239400   \n",
       "2          0.0              0.0           0.0           0.0  274140   \n",
       "3          0.0              1.0           0.0           0.0  177000   \n",
       "4          0.0              0.0           0.0           0.0  106000   \n",
       "..         ...              ...           ...           ...     ...   \n",
       "756        0.0              0.0           0.0           0.0       0   \n",
       "757        0.0              1.0           0.0           0.0  582650   \n",
       "758        0.0              0.0           0.0           0.0  367700   \n",
       "759        0.0              0.0           0.0           0.0  451000   \n",
       "760        0.0              0.0           0.0           0.0  496000   \n",
       "\n",
       "     day_of_year  month  day_of_week  \n",
       "0             91      4            4  \n",
       "1             92      4            5  \n",
       "2             93      4            6  \n",
       "3             94      4            0  \n",
       "4             95      4            1  \n",
       "..           ...    ...          ...  \n",
       "756          117      4            4  \n",
       "757          118      4            5  \n",
       "758          119      4            6  \n",
       "759          120      4            0  \n",
       "760          121      4            1  \n",
       "\n",
       "[761 rows x 127 columns]"
      ]
     },
     "execution_count": 80,
     "metadata": {},
     "output_type": "execute_result"
    }
   ],
   "source": [
    "data['day_of_year'] = data['Date'].dt.dayofyear\n",
    "data['month'] = data['Date'].dt.month\n",
    "data['day_of_week'] = data['Date'].dt.dayofweek\n",
    "data = data.drop(columns='Date')\n",
    "data"
   ]
  },
  {
   "cell_type": "code",
   "execution_count": 81,
   "metadata": {},
   "outputs": [
    {
     "name": "stdout",
     "output_type": "stream",
     "text": [
      "12 C AC\n",
      "0.009198423127463863\n",
      "12 inch Fan\n"
     ]
    },
    {
     "name": "stderr",
     "output_type": "stream",
     "text": [
      "C:\\Users\\CP LAB\\AppData\\Local\\Packages\\PythonSoftwareFoundation.Python.3.11_qbz5n2kfra8p0\\LocalCache\\local-packages\\Python311\\site-packages\\sklearn\\linear_model\\_stochastic_gradient.py:1616: ConvergenceWarning: Maximum number of iteration reached before convergence. Consider increasing max_iter to improve the fit.\n",
      "  warnings.warn(\n"
     ]
    },
    {
     "name": "stdout",
     "output_type": "stream",
     "text": [
      "0.4021024967148489\n",
      "14 inch Fan\n",
      "5.043363994743758\n",
      "17 inch Fan\n",
      "4.421813403416557\n",
      "18 A AC\n",
      "0.006570302233902759\n",
      "18 C AC\n"
     ]
    },
    {
     "name": "stderr",
     "output_type": "stream",
     "text": [
      "C:\\Users\\CP LAB\\AppData\\Local\\Packages\\PythonSoftwareFoundation.Python.3.11_qbz5n2kfra8p0\\LocalCache\\local-packages\\Python311\\site-packages\\sklearn\\linear_model\\_stochastic_gradient.py:1616: ConvergenceWarning: Maximum number of iteration reached before convergence. Consider increasing max_iter to improve the fit.\n",
      "  warnings.warn(\n",
      "C:\\Users\\CP LAB\\AppData\\Local\\Packages\\PythonSoftwareFoundation.Python.3.11_qbz5n2kfra8p0\\LocalCache\\local-packages\\Python311\\site-packages\\sklearn\\linear_model\\_stochastic_gradient.py:1616: ConvergenceWarning: Maximum number of iteration reached before convergence. Consider increasing max_iter to improve the fit.\n",
      "  warnings.warn(\n"
     ]
    },
    {
     "name": "stdout",
     "output_type": "stream",
     "text": [
      "0.03679369250985545\n",
      "18 F AC\n",
      "0.002628120893561104\n",
      "1B3GDEL\n",
      "0.003942181340341655\n",
      "1B6GDEH\n",
      "0.003942181340341655\n",
      "1B6GDEL\n",
      "0.03679369250985545\n",
      "1B6RXXX\n",
      "0.00788436268068331\n",
      "1D4CRXX\n"
     ]
    },
    {
     "name": "stderr",
     "output_type": "stream",
     "text": [
      "C:\\Users\\CP LAB\\AppData\\Local\\Packages\\PythonSoftwareFoundation.Python.3.11_qbz5n2kfra8p0\\LocalCache\\local-packages\\Python311\\site-packages\\sklearn\\linear_model\\_stochastic_gradient.py:1616: ConvergenceWarning: Maximum number of iteration reached before convergence. Consider increasing max_iter to improve the fit.\n",
      "  warnings.warn(\n"
     ]
    },
    {
     "name": "stdout",
     "output_type": "stream",
     "text": [
      "0.005256241787122208\n",
      "1D4GDEH\n",
      "0.006570302233902759\n",
      "1D4GDEL\n"
     ]
    },
    {
     "name": "stderr",
     "output_type": "stream",
     "text": [
      "C:\\Users\\CP LAB\\AppData\\Local\\Packages\\PythonSoftwareFoundation.Python.3.11_qbz5n2kfra8p0\\LocalCache\\local-packages\\Python311\\site-packages\\sklearn\\linear_model\\_stochastic_gradient.py:1616: ConvergenceWarning: Maximum number of iteration reached before convergence. Consider increasing max_iter to improve the fit.\n",
      "  warnings.warn(\n"
     ]
    },
    {
     "name": "stdout",
     "output_type": "stream",
     "text": [
      "0.06176084099868594\n",
      "1D4GDSH\n"
     ]
    },
    {
     "name": "stderr",
     "output_type": "stream",
     "text": [
      "C:\\Users\\CP LAB\\AppData\\Local\\Packages\\PythonSoftwareFoundation.Python.3.11_qbz5n2kfra8p0\\LocalCache\\local-packages\\Python311\\site-packages\\sklearn\\linear_model\\_stochastic_gradient.py:1616: ConvergenceWarning: Maximum number of iteration reached before convergence. Consider increasing max_iter to improve the fit.\n",
      "  warnings.warn(\n"
     ]
    },
    {
     "name": "stdout",
     "output_type": "stream",
     "text": [
      "0.005256241787122208\n",
      "1D5GDEL\n"
     ]
    },
    {
     "name": "stderr",
     "output_type": "stream",
     "text": [
      "C:\\Users\\CP LAB\\AppData\\Local\\Packages\\PythonSoftwareFoundation.Python.3.11_qbz5n2kfra8p0\\LocalCache\\local-packages\\Python311\\site-packages\\sklearn\\linear_model\\_stochastic_gradient.py:1616: ConvergenceWarning: Maximum number of iteration reached before convergence. Consider increasing max_iter to improve the fit.\n",
      "  warnings.warn(\n"
     ]
    },
    {
     "name": "stdout",
     "output_type": "stream",
     "text": [
      "0.018396846254927726\n",
      "1D5RXXX\n",
      "0.001314060446780552\n",
      "1F3GDEH\n"
     ]
    },
    {
     "name": "stderr",
     "output_type": "stream",
     "text": [
      "C:\\Users\\CP LAB\\AppData\\Local\\Packages\\PythonSoftwareFoundation.Python.3.11_qbz5n2kfra8p0\\LocalCache\\local-packages\\Python311\\site-packages\\sklearn\\linear_model\\_stochastic_gradient.py:1616: ConvergenceWarning: Maximum number of iteration reached before convergence. Consider increasing max_iter to improve the fit.\n",
      "  warnings.warn(\n"
     ]
    },
    {
     "name": "stdout",
     "output_type": "stream",
     "text": [
      "0.18396846254927726\n",
      "1F3GDEL\n"
     ]
    },
    {
     "name": "stderr",
     "output_type": "stream",
     "text": [
      "C:\\Users\\CP LAB\\AppData\\Local\\Packages\\PythonSoftwareFoundation.Python.3.11_qbz5n2kfra8p0\\LocalCache\\local-packages\\Python311\\site-packages\\sklearn\\linear_model\\_stochastic_gradient.py:1616: ConvergenceWarning: Maximum number of iteration reached before convergence. Consider increasing max_iter to improve the fit.\n",
      "  warnings.warn(\n"
     ]
    },
    {
     "name": "stdout",
     "output_type": "stream",
     "text": [
      "1.0880420499342969\n",
      "1F3GDSH\n"
     ]
    },
    {
     "name": "stderr",
     "output_type": "stream",
     "text": [
      "C:\\Users\\CP LAB\\AppData\\Local\\Packages\\PythonSoftwareFoundation.Python.3.11_qbz5n2kfra8p0\\LocalCache\\local-packages\\Python311\\site-packages\\sklearn\\linear_model\\_stochastic_gradient.py:1616: ConvergenceWarning: Maximum number of iteration reached before convergence. Consider increasing max_iter to improve the fit.\n",
      "  warnings.warn(\n"
     ]
    },
    {
     "name": "stdout",
     "output_type": "stream",
     "text": [
      "0.06701708278580815\n",
      "1F3RXXX\n"
     ]
    },
    {
     "name": "stderr",
     "output_type": "stream",
     "text": [
      "C:\\Users\\CP LAB\\AppData\\Local\\Packages\\PythonSoftwareFoundation.Python.3.11_qbz5n2kfra8p0\\LocalCache\\local-packages\\Python311\\site-packages\\sklearn\\linear_model\\_stochastic_gradient.py:1616: ConvergenceWarning: Maximum number of iteration reached before convergence. Consider increasing max_iter to improve the fit.\n",
      "  warnings.warn(\n"
     ]
    },
    {
     "name": "stdout",
     "output_type": "stream",
     "text": [
      "0.05913272010512484\n",
      "1H5ELXX\n",
      "0.001314060446780552\n",
      "1H5GDEL\n",
      "0.011826544021024968\n",
      "1H5GDSH\n",
      "0.0\n",
      "1X1RXXX\n",
      "0.003942181340341655\n",
      "24 B AC\n"
     ]
    },
    {
     "name": "stderr",
     "output_type": "stream",
     "text": [
      "C:\\Users\\CP LAB\\AppData\\Local\\Packages\\PythonSoftwareFoundation.Python.3.11_qbz5n2kfra8p0\\LocalCache\\local-packages\\Python311\\site-packages\\sklearn\\linear_model\\_stochastic_gradient.py:1616: ConvergenceWarning: Maximum number of iteration reached before convergence. Consider increasing max_iter to improve the fit.\n",
      "  warnings.warn(\n"
     ]
    },
    {
     "name": "stdout",
     "output_type": "stream",
     "text": [
      "0.010512483574244415\n",
      "24 C AC\n",
      "0.002628120893561104\n",
      "24 inch LED\n"
     ]
    },
    {
     "name": "stderr",
     "output_type": "stream",
     "text": [
      "C:\\Users\\CP LAB\\AppData\\Local\\Packages\\PythonSoftwareFoundation.Python.3.11_qbz5n2kfra8p0\\LocalCache\\local-packages\\Python311\\site-packages\\sklearn\\linear_model\\_stochastic_gradient.py:1616: ConvergenceWarning: Maximum number of iteration reached before convergence. Consider increasing max_iter to improve the fit.\n",
      "  warnings.warn(\n"
     ]
    },
    {
     "name": "stdout",
     "output_type": "stream",
     "text": [
      "0.11826544021024968\n",
      "2A3ELXX\n",
      "0.0\n",
      "2A3GDEH\n",
      "0.013140604467805518\n",
      "2A3GDEL\n"
     ]
    },
    {
     "name": "stderr",
     "output_type": "stream",
     "text": [
      "C:\\Users\\CP LAB\\AppData\\Local\\Packages\\PythonSoftwareFoundation.Python.3.11_qbz5n2kfra8p0\\LocalCache\\local-packages\\Python311\\site-packages\\sklearn\\linear_model\\_stochastic_gradient.py:1616: ConvergenceWarning: Maximum number of iteration reached before convergence. Consider increasing max_iter to improve the fit.\n",
      "  warnings.warn(\n"
     ]
    },
    {
     "name": "stdout",
     "output_type": "stream",
     "text": [
      "0.2588699080157687\n",
      "2A3GDSH\n"
     ]
    },
    {
     "name": "stderr",
     "output_type": "stream",
     "text": [
      "C:\\Users\\CP LAB\\AppData\\Local\\Packages\\PythonSoftwareFoundation.Python.3.11_qbz5n2kfra8p0\\LocalCache\\local-packages\\Python311\\site-packages\\sklearn\\linear_model\\_stochastic_gradient.py:1616: ConvergenceWarning: Maximum number of iteration reached before convergence. Consider increasing max_iter to improve the fit.\n",
      "  warnings.warn(\n"
     ]
    },
    {
     "name": "stdout",
     "output_type": "stream",
     "text": [
      "0.00788436268068331\n",
      "2A3GDXX\n"
     ]
    },
    {
     "name": "stderr",
     "output_type": "stream",
     "text": [
      "C:\\Users\\CP LAB\\AppData\\Local\\Packages\\PythonSoftwareFoundation.Python.3.11_qbz5n2kfra8p0\\LocalCache\\local-packages\\Python311\\site-packages\\sklearn\\linear_model\\_stochastic_gradient.py:1616: ConvergenceWarning: Maximum number of iteration reached before convergence. Consider increasing max_iter to improve the fit.\n",
      "  warnings.warn(\n"
     ]
    },
    {
     "name": "stdout",
     "output_type": "stream",
     "text": [
      "0.19710906701708278\n",
      "2A3RLXX\n",
      "0.001314060446780552\n",
      "2A7GDEL\n",
      "0.003942181340341655\n",
      "2A8GDXX\n",
      "0.003942181340341655\n",
      "2B0GDXX\n",
      "0.010512483574244415\n",
      "2B3GDEL\n",
      "0.026281208935611037\n",
      "2B3GDSH\n",
      "0.006570302233902759\n",
      "2B3GDXX\n"
     ]
    },
    {
     "name": "stderr",
     "output_type": "stream",
     "text": [
      "C:\\Users\\CP LAB\\AppData\\Local\\Packages\\PythonSoftwareFoundation.Python.3.11_qbz5n2kfra8p0\\LocalCache\\local-packages\\Python311\\site-packages\\sklearn\\linear_model\\_stochastic_gradient.py:1616: ConvergenceWarning: Maximum number of iteration reached before convergence. Consider increasing max_iter to improve the fit.\n",
      "  warnings.warn(\n"
     ]
    },
    {
     "name": "stdout",
     "output_type": "stream",
     "text": [
      "0.035479632063074903\n",
      "2B6GDEL\n",
      "0.002628120893561104\n",
      "2B6RXXX\n",
      "0.002628120893561104\n",
      "2D4GDEL\n",
      "0.013140604467805518\n",
      "2D4RXXX\n",
      "0.003942181340341655\n",
      "2E0GDEL\n",
      "0.03153745072273324\n",
      "2E0GDXX\n"
     ]
    },
    {
     "name": "stderr",
     "output_type": "stream",
     "text": [
      "C:\\Users\\CP LAB\\AppData\\Local\\Packages\\PythonSoftwareFoundation.Python.3.11_qbz5n2kfra8p0\\LocalCache\\local-packages\\Python311\\site-packages\\sklearn\\linear_model\\_stochastic_gradient.py:1616: ConvergenceWarning: Maximum number of iteration reached before convergence. Consider increasing max_iter to improve the fit.\n",
      "  warnings.warn(\n"
     ]
    },
    {
     "name": "stdout",
     "output_type": "stream",
     "text": [
      "0.024967148488830485\n",
      "2E4GDEH\n",
      "0.002628120893561104\n",
      "2E4GDXX\n",
      "0.001314060446780552\n",
      "2E5EHLX\n",
      "0.0\n",
      "2E5GDEL\n",
      "0.013140604467805518\n",
      "2F0GDEL\n",
      "0.0\n",
      "2F0GDXX\n",
      "0.005256241787122208\n",
      "2G0CGXX\n",
      "0.00788436268068331\n",
      "2H2GDEL\n",
      "0.001314060446780552\n",
      "2H2GDXX (Inv)\n"
     ]
    },
    {
     "name": "stderr",
     "output_type": "stream",
     "text": [
      "C:\\Users\\CP LAB\\AppData\\Local\\Packages\\PythonSoftwareFoundation.Python.3.11_qbz5n2kfra8p0\\LocalCache\\local-packages\\Python311\\site-packages\\sklearn\\linear_model\\_stochastic_gradient.py:1616: ConvergenceWarning: Maximum number of iteration reached before convergence. Consider increasing max_iter to improve the fit.\n",
      "  warnings.warn(\n"
     ]
    },
    {
     "name": "stdout",
     "output_type": "stream",
     "text": [
      "0.018396846254927726\n",
      "2N5CRXX\n",
      "0.003942181340341655\n",
      "2N5GDEL\n",
      "0.003942181340341655\n",
      "2N5GDEL (Inv)\n",
      "0.002628120893561104\n",
      "2N5GDXX\n",
      "0.003942181340341655\n",
      "2T5GDEL\n",
      "0.02890932982917214\n",
      "2T5RRLX-GX\n"
     ]
    },
    {
     "name": "stderr",
     "output_type": "stream",
     "text": [
      "C:\\Users\\CP LAB\\AppData\\Local\\Packages\\PythonSoftwareFoundation.Python.3.11_qbz5n2kfra8p0\\LocalCache\\local-packages\\Python311\\site-packages\\sklearn\\linear_model\\_stochastic_gradient.py:1616: ConvergenceWarning: Maximum number of iteration reached before convergence. Consider increasing max_iter to improve the fit.\n",
      "  warnings.warn(\n"
     ]
    },
    {
     "name": "stdout",
     "output_type": "stream",
     "text": [
      "0.003942181340341655\n",
      "2T5RRLX-XX\n",
      "0.0\n",
      "32 inch LED\n",
      "0.21156373193166886\n",
      "3A2GDEL\n",
      "0.0\n",
      "3A2GDEN\n",
      "0.002628120893561104\n",
      "3A2GDXX\n",
      "0.002628120893561104\n",
      "3A7GDXX\n",
      "0.005256241787122208\n",
      "3A7NXXX\n",
      "0.002628120893561104\n",
      "3B0GDEL\n",
      "0.003942181340341655\n",
      "3B0GDXX\n",
      "0.003942181340341655\n",
      "3B0GDXX (inv)\n",
      "0.0\n",
      "3D8GD-DD\n",
      "0.0\n",
      "3D8GDEH-DD\n",
      "0.009198423127463863\n",
      "3D8GDEL\n",
      "0.011826544021024968\n",
      "3D8GDEL (inv)\n",
      "0.00788436268068331\n",
      "3D8GDSH\n",
      "0.0\n",
      "3D8GDXX\n",
      "0.001314060446780552\n",
      "3E8GDXX\n",
      "0.0\n",
      "3F5GDSH\n",
      "0.001314060446780552\n",
      "3F5GDXX\n",
      "0.003942181340341655\n",
      "3J0GDEL\n",
      "0.005256241787122208\n",
      "3J0GDEL DD\n",
      "0.001314060446780552\n",
      "3J0RXXX\n",
      "0.002628120893561104\n",
      "3X7GDEL\n"
     ]
    },
    {
     "name": "stderr",
     "output_type": "stream",
     "text": [
      "C:\\Users\\CP LAB\\AppData\\Local\\Packages\\PythonSoftwareFoundation.Python.3.11_qbz5n2kfra8p0\\LocalCache\\local-packages\\Python311\\site-packages\\sklearn\\linear_model\\_stochastic_gradient.py:1616: ConvergenceWarning: Maximum number of iteration reached before convergence. Consider increasing max_iter to improve the fit.\n",
      "  warnings.warn(\n"
     ]
    },
    {
     "name": "stdout",
     "output_type": "stream",
     "text": [
      "0.022339027595269383\n",
      "3X7NEXX\n",
      "0.005256241787122208\n",
      "3X9GDEL\n",
      "0.001314060446780552\n",
      "3X9GDXX\n",
      "0.0\n",
      "40 inch LED\n",
      "0.018396846254927726\n",
      "43 inch 4K\n",
      "0.026281208935611037\n",
      "5F3GDEL\n",
      "0.003942181340341655\n",
      "5F3GDEL-DD\n",
      "0.003942181340341655\n",
      "Air Cooler\n",
      "0.002628120893561104\n",
      "Blender\n"
     ]
    },
    {
     "name": "stderr",
     "output_type": "stream",
     "text": [
      "C:\\Users\\CP LAB\\AppData\\Local\\Packages\\PythonSoftwareFoundation.Python.3.11_qbz5n2kfra8p0\\LocalCache\\local-packages\\Python311\\site-packages\\sklearn\\linear_model\\_stochastic_gradient.py:1616: ConvergenceWarning: Maximum number of iteration reached before convergence. Consider increasing max_iter to improve the fit.\n",
      "  warnings.warn(\n",
      "C:\\Users\\CP LAB\\AppData\\Local\\Packages\\PythonSoftwareFoundation.Python.3.11_qbz5n2kfra8p0\\LocalCache\\local-packages\\Python311\\site-packages\\sklearn\\linear_model\\_stochastic_gradient.py:1616: ConvergenceWarning: Maximum number of iteration reached before convergence. Consider increasing max_iter to improve the fit.\n",
      "  warnings.warn(\n"
     ]
    },
    {
     "name": "stdout",
     "output_type": "stream",
     "text": [
      "0.045992115637319315\n",
      "Ceiling Fan\n",
      "0.10775295663600526\n",
      "Fry Pan\n"
     ]
    },
    {
     "name": "stderr",
     "output_type": "stream",
     "text": [
      "C:\\Users\\CP LAB\\AppData\\Local\\Packages\\PythonSoftwareFoundation.Python.3.11_qbz5n2kfra8p0\\LocalCache\\local-packages\\Python311\\site-packages\\sklearn\\linear_model\\_stochastic_gradient.py:1616: ConvergenceWarning: Maximum number of iteration reached before convergence. Consider increasing max_iter to improve the fit.\n",
      "  warnings.warn(\n"
     ]
    },
    {
     "name": "stdout",
     "output_type": "stream",
     "text": [
      "0.02759526938239159\n",
      "Gas Stove\n"
     ]
    },
    {
     "name": "stderr",
     "output_type": "stream",
     "text": [
      "C:\\Users\\CP LAB\\AppData\\Local\\Packages\\PythonSoftwareFoundation.Python.3.11_qbz5n2kfra8p0\\LocalCache\\local-packages\\Python311\\site-packages\\sklearn\\linear_model\\_stochastic_gradient.py:1616: ConvergenceWarning: Maximum number of iteration reached before convergence. Consider increasing max_iter to improve the fit.\n",
      "  warnings.warn(\n",
      "C:\\Users\\CP LAB\\AppData\\Local\\Packages\\PythonSoftwareFoundation.Python.3.11_qbz5n2kfra8p0\\LocalCache\\local-packages\\Python311\\site-packages\\sklearn\\linear_model\\_stochastic_gradient.py:1616: ConvergenceWarning: Maximum number of iteration reached before convergence. Consider increasing max_iter to improve the fit.\n",
      "  warnings.warn(\n"
     ]
    },
    {
     "name": "stdout",
     "output_type": "stream",
     "text": [
      "0.11300919842312747\n",
      "Glyser\n",
      "0.08278580814717477\n",
      "Grinder\n"
     ]
    },
    {
     "name": "stderr",
     "output_type": "stream",
     "text": [
      "C:\\Users\\CP LAB\\AppData\\Local\\Packages\\PythonSoftwareFoundation.Python.3.11_qbz5n2kfra8p0\\LocalCache\\local-packages\\Python311\\site-packages\\sklearn\\linear_model\\_stochastic_gradient.py:1616: ConvergenceWarning: Maximum number of iteration reached before convergence. Consider increasing max_iter to improve the fit.\n",
      "  warnings.warn(\n"
     ]
    },
    {
     "name": "stdout",
     "output_type": "stream",
     "text": [
      "0.24310118265440211\n",
      "Induction Cooker\n",
      "0.005256241787122208\n",
      "Infered Cooker\n"
     ]
    },
    {
     "name": "stderr",
     "output_type": "stream",
     "text": [
      "C:\\Users\\CP LAB\\AppData\\Local\\Packages\\PythonSoftwareFoundation.Python.3.11_qbz5n2kfra8p0\\LocalCache\\local-packages\\Python311\\site-packages\\sklearn\\linear_model\\_stochastic_gradient.py:1616: ConvergenceWarning: Maximum number of iteration reached before convergence. Consider increasing max_iter to improve the fit.\n",
      "  warnings.warn(\n"
     ]
    },
    {
     "name": "stdout",
     "output_type": "stream",
     "text": [
      "0.030223390275952694\n",
      "Iron\n"
     ]
    },
    {
     "name": "stderr",
     "output_type": "stream",
     "text": [
      "C:\\Users\\CP LAB\\AppData\\Local\\Packages\\PythonSoftwareFoundation.Python.3.11_qbz5n2kfra8p0\\LocalCache\\local-packages\\Python311\\site-packages\\sklearn\\linear_model\\_stochastic_gradient.py:1616: ConvergenceWarning: Maximum number of iteration reached before convergence. Consider increasing max_iter to improve the fit.\n",
      "  warnings.warn(\n"
     ]
    },
    {
     "name": "stdout",
     "output_type": "stream",
     "text": [
      "0.3180026281208936\n",
      "Kettle\n",
      "0.17608409986859397\n",
      "Light Bulb\n"
     ]
    },
    {
     "name": "stderr",
     "output_type": "stream",
     "text": [
      "C:\\Users\\CP LAB\\AppData\\Local\\Packages\\PythonSoftwareFoundation.Python.3.11_qbz5n2kfra8p0\\LocalCache\\local-packages\\Python311\\site-packages\\sklearn\\linear_model\\_stochastic_gradient.py:1616: ConvergenceWarning: Maximum number of iteration reached before convergence. Consider increasing max_iter to improve the fit.\n",
      "  warnings.warn(\n"
     ]
    },
    {
     "name": "stdout",
     "output_type": "stream",
     "text": [
      "0.006570302233902759\n",
      "Mobile H10\n",
      "0.0\n",
      "Mobile N5\n",
      "0.006570302233902759\n",
      "Mobile P16\n",
      "0.009198423127463863\n",
      "Multi Cooker\n",
      "0.009198423127463863\n",
      "Multiplug\n",
      "0.006570302233902759\n",
      "Oven\n",
      "0.017082785808147174\n",
      "Pressure Cooker\n",
      "0.030223390275952694\n",
      "Protector\n"
     ]
    },
    {
     "name": "stderr",
     "output_type": "stream",
     "text": [
      "C:\\Users\\CP LAB\\AppData\\Local\\Packages\\PythonSoftwareFoundation.Python.3.11_qbz5n2kfra8p0\\LocalCache\\local-packages\\Python311\\site-packages\\sklearn\\linear_model\\_stochastic_gradient.py:1616: ConvergenceWarning: Maximum number of iteration reached before convergence. Consider increasing max_iter to improve the fit.\n",
      "  warnings.warn(\n"
     ]
    },
    {
     "name": "stdout",
     "output_type": "stream",
     "text": [
      "0.011826544021024968\n",
      "Remote\n"
     ]
    },
    {
     "name": "stderr",
     "output_type": "stream",
     "text": [
      "C:\\Users\\CP LAB\\AppData\\Local\\Packages\\PythonSoftwareFoundation.Python.3.11_qbz5n2kfra8p0\\LocalCache\\local-packages\\Python311\\site-packages\\sklearn\\linear_model\\_stochastic_gradient.py:1616: ConvergenceWarning: Maximum number of iteration reached before convergence. Consider increasing max_iter to improve the fit.\n",
      "  warnings.warn(\n"
     ]
    },
    {
     "name": "stdout",
     "output_type": "stream",
     "text": [
      "0.01971090670170828\n",
      "Rice Cooker\n",
      "0.24441524310118265\n",
      "Room Heater\n"
     ]
    },
    {
     "name": "stderr",
     "output_type": "stream",
     "text": [
      "C:\\Users\\CP LAB\\AppData\\Local\\Packages\\PythonSoftwareFoundation.Python.3.11_qbz5n2kfra8p0\\LocalCache\\local-packages\\Python311\\site-packages\\sklearn\\linear_model\\_stochastic_gradient.py:1616: ConvergenceWarning: Maximum number of iteration reached before convergence. Consider increasing max_iter to improve the fit.\n",
      "  warnings.warn(\n"
     ]
    },
    {
     "name": "stdout",
     "output_type": "stream",
     "text": [
      "0.022339027595269383\n",
      "Ruti Tawa\n",
      "0.005256241787122208\n",
      "Speaker\n",
      "0.001314060446780552\n",
      "Stabilizer\n",
      "0.00788436268068331\n",
      "Stand Fan\n"
     ]
    },
    {
     "name": "stderr",
     "output_type": "stream",
     "text": [
      "C:\\Users\\CP LAB\\AppData\\Local\\Packages\\PythonSoftwareFoundation.Python.3.11_qbz5n2kfra8p0\\LocalCache\\local-packages\\Python311\\site-packages\\sklearn\\linear_model\\_stochastic_gradient.py:1616: ConvergenceWarning: Maximum number of iteration reached before convergence. Consider increasing max_iter to improve the fit.\n",
      "  warnings.warn(\n"
     ]
    },
    {
     "name": "stdout",
     "output_type": "stream",
     "text": [
      "0.06438896189224705\n",
      "Tornedo Fan\n",
      "0.006570302233902759\n",
      "Wall Move\n"
     ]
    },
    {
     "name": "stderr",
     "output_type": "stream",
     "text": [
      "C:\\Users\\CP LAB\\AppData\\Local\\Packages\\PythonSoftwareFoundation.Python.3.11_qbz5n2kfra8p0\\LocalCache\\local-packages\\Python311\\site-packages\\sklearn\\linear_model\\_stochastic_gradient.py:1616: ConvergenceWarning: Maximum number of iteration reached before convergence. Consider increasing max_iter to improve the fit.\n",
      "  warnings.warn(\n"
     ]
    },
    {
     "name": "stdout",
     "output_type": "stream",
     "text": [
      "0.026281208935611037\n",
      "Washing Machine\n",
      "0.03153745072273324\n",
      "Water Filter\n",
      "0.003942181340341655\n",
      "Weight Scale\n",
      "0.005256241787122208\n"
     ]
    }
   ],
   "source": [
    "products = data.columns.to_list()[:-4]\n",
    "for product in products:\n",
    "    print(product)\n",
    "    classification_data = data[['day_of_year', 'month', 'day_of_week', product]].copy()\n",
    "\n",
    "    # Defining conditions here\n",
    "    conditions = [\n",
    "        classification_data[product] > 2,\n",
    "        classification_data[product] == 2,\n",
    "        classification_data[product] == 1,  \n",
    "        classification_data[product] == 0  \n",
    "    ]\n",
    "\n",
    "    # Defining the corresponding outputs for each condition\n",
    "    choices = [3, 2, 1, 0]\n",
    "\n",
    "    # Apply np.select to assign values based on the conditions\n",
    "    classification_data.loc[:, 'Sale'] = np.select(conditions, choices, default=0)\n",
    "\n",
    "    X = classification_data[['day_of_year', 'month', 'day_of_week']]\n",
    "    y_class = classification_data['Sale']  # Classification target\n",
    "    y_reg = classification_data[product]  # Regression target\n",
    "\n",
    "    X_train_class, X_test_class, y_train_class, y_test_class = train_test_split(X, y_class, test_size = 0.2, random_state = 42)\n",
    "\n",
    "    clf = RandomForestClassifier(n_estimators = 100, random_state = 42)\n",
    "    clf.fit(X_train_class, y_train_class)\n",
    "\n",
    "    y_pred_class = clf.predict(X_test_class)\n",
    "    # print(\"Classification Report:\\n\", classification_report(y_test_class, y_pred_class))\n",
    "\n",
    "    y_pred_class_all = clf.predict(X)\n",
    "    # print(\"Classification Report on Full Data:\\n\", classification_report(y_class, y_pred_class_all))\n",
    "\n",
    "    X_train_reg = X[y_class == 3]\n",
    "    y_train_reg = y_reg[y_class == 3]\n",
    "\n",
    "    if (len(X_train_reg) > 0):\n",
    "        # Initialize the SGDRegressor with a small learning rate\n",
    "        reg = SGDRegressor(max_iter=100, tol=1e-3, random_state=42)\n",
    "\n",
    "        # Scaling the data for regression\n",
    "        scaler = StandardScaler()\n",
    "        X_train_reg_scaled = scaler.fit_transform(X_train_reg)\n",
    "\n",
    "        # Train the regression model with SGDRegressor\n",
    "        reg.fit(X_train_reg_scaled, y_train_reg)\n",
    "\n",
    "        for i in range(len(y_pred_class_all)):\n",
    "            if y_pred_class_all[i] == 3:  # If a sale is predicted\n",
    "                y_pred_class_all[i] = reg.predict([X.iloc[i]])[0]  # Predict the quantity\n",
    "\n",
    "    print(mean_absolute_error(y_reg, y_pred_class_all))"
   ]
  }
 ],
 "metadata": {
  "kernelspec": {
   "display_name": "Python 3",
   "language": "python",
   "name": "python3"
  },
  "language_info": {
   "codemirror_mode": {
    "name": "ipython",
    "version": 3
   },
   "file_extension": ".py",
   "mimetype": "text/x-python",
   "name": "python",
   "nbconvert_exporter": "python",
   "pygments_lexer": "ipython3",
   "version": "3.11.9"
  }
 },
 "nbformat": 4,
 "nbformat_minor": 2
}
