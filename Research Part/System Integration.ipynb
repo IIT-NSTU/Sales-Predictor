{
 "cells": [
  {
   "cell_type": "code",
   "execution_count": 47,
   "metadata": {},
   "outputs": [],
   "source": [
    "import pickle\n",
    "import pandas as pd\n",
    "from sklearn.preprocessing import StandardScaler\n",
    "from datetime import date, datetime, timedelta"
   ]
  },
  {
   "cell_type": "code",
   "execution_count": 49,
   "metadata": {},
   "outputs": [],
   "source": [
    "# Opening saved model\n",
    "with open(\"model/classifier.pkl\", \"rb\") as file:\n",
    "    classifier = pickle.load(file)\n"
   ]
  },
  {
   "cell_type": "code",
   "execution_count": 50,
   "metadata": {},
   "outputs": [],
   "source": [
    "product_data = pd.read_csv(\"dataset/Project Dataset/product.csv\")"
   ]
  },
  {
   "cell_type": "code",
   "execution_count": 51,
   "metadata": {},
   "outputs": [
    {
     "data": {
      "text/html": [
       "<div>\n",
       "<style scoped>\n",
       "    .dataframe tbody tr th:only-of-type {\n",
       "        vertical-align: middle;\n",
       "    }\n",
       "\n",
       "    .dataframe tbody tr th {\n",
       "        vertical-align: top;\n",
       "    }\n",
       "\n",
       "    .dataframe thead th {\n",
       "        text-align: right;\n",
       "    }\n",
       "</style>\n",
       "<table border=\"1\" class=\"dataframe\">\n",
       "  <thead>\n",
       "    <tr style=\"text-align: right;\">\n",
       "      <th></th>\n",
       "      <th>product</th>\n",
       "      <th>id</th>\n",
       "      <th>price</th>\n",
       "    </tr>\n",
       "  </thead>\n",
       "  <tbody>\n",
       "    <tr>\n",
       "      <th>0</th>\n",
       "      <td>12 C AC</td>\n",
       "      <td>101</td>\n",
       "      <td>67300</td>\n",
       "    </tr>\n",
       "    <tr>\n",
       "      <th>1</th>\n",
       "      <td>12 inch Fan</td>\n",
       "      <td>57</td>\n",
       "      <td>3990</td>\n",
       "    </tr>\n",
       "    <tr>\n",
       "      <th>2</th>\n",
       "      <td>14 inch Fan</td>\n",
       "      <td>56</td>\n",
       "      <td>4490</td>\n",
       "    </tr>\n",
       "    <tr>\n",
       "      <th>3</th>\n",
       "      <td>17 inch Fan</td>\n",
       "      <td>54</td>\n",
       "      <td>6290</td>\n",
       "    </tr>\n",
       "    <tr>\n",
       "      <th>4</th>\n",
       "      <td>18 A AC</td>\n",
       "      <td>99</td>\n",
       "      <td>49900</td>\n",
       "    </tr>\n",
       "    <tr>\n",
       "      <th>...</th>\n",
       "      <td>...</td>\n",
       "      <td>...</td>\n",
       "      <td>...</td>\n",
       "    </tr>\n",
       "    <tr>\n",
       "      <th>118</th>\n",
       "      <td>Tornedo Fan</td>\n",
       "      <td>66</td>\n",
       "      <td>1090</td>\n",
       "    </tr>\n",
       "    <tr>\n",
       "      <th>119</th>\n",
       "      <td>Wall Move</td>\n",
       "      <td>68</td>\n",
       "      <td>3130</td>\n",
       "    </tr>\n",
       "    <tr>\n",
       "      <th>120</th>\n",
       "      <td>Washing Machine</td>\n",
       "      <td>84</td>\n",
       "      <td>19900</td>\n",
       "    </tr>\n",
       "    <tr>\n",
       "      <th>121</th>\n",
       "      <td>Water Filter</td>\n",
       "      <td>69</td>\n",
       "      <td>3900</td>\n",
       "    </tr>\n",
       "    <tr>\n",
       "      <th>122</th>\n",
       "      <td>Weight Scale</td>\n",
       "      <td>64</td>\n",
       "      <td>1200</td>\n",
       "    </tr>\n",
       "  </tbody>\n",
       "</table>\n",
       "<p>123 rows × 3 columns</p>\n",
       "</div>"
      ],
      "text/plain": [
       "             product   id  price\n",
       "0            12 C AC  101  67300\n",
       "1        12 inch Fan   57   3990\n",
       "2        14 inch Fan   56   4490\n",
       "3        17 inch Fan   54   6290\n",
       "4            18 A AC   99  49900\n",
       "..               ...  ...    ...\n",
       "118      Tornedo Fan   66   1090\n",
       "119        Wall Move   68   3130\n",
       "120  Washing Machine   84  19900\n",
       "121     Water Filter   69   3900\n",
       "122     Weight Scale   64   1200\n",
       "\n",
       "[123 rows x 3 columns]"
      ]
     },
     "execution_count": 51,
     "metadata": {},
     "output_type": "execute_result"
    }
   ],
   "source": [
    "product_data = product_data.sort_values(\"product\").reset_index().drop(columns=['index'])\n",
    "product_data"
   ]
  },
  {
   "cell_type": "code",
   "execution_count": 52,
   "metadata": {},
   "outputs": [
    {
     "name": "stdout",
     "output_type": "stream",
     "text": [
      "INSERT INTO `predictions` (`id`, `date`, `product_id`, `unit`, `user_id`, `created_at`, `updated_at`) VALUES (NULL, '2024-09-07', '54', '2', '5', CURRENT_TIMESTAMP, CURRENT_TIMESTAMP),(NULL, '2024-09-07', '141', '1', '5', CURRENT_TIMESTAMP, CURRENT_TIMESTAMP),(NULL, '2024-09-07', '127', '1', '5', CURRENT_TIMESTAMP, CURRENT_TIMESTAMP),(NULL, '2024-09-07', '88', '1', '5', CURRENT_TIMESTAMP, CURRENT_TIMESTAMP),(NULL, '2024-09-07', '83', '1', '5', CURRENT_TIMESTAMP, CURRENT_TIMESTAMP),(NULL, '2024-09-07', '81', '1', '5', CURRENT_TIMESTAMP, CURRENT_TIMESTAMP),(NULL, '2024-09-07', '67', '1', '5', CURRENT_TIMESTAMP, CURRENT_TIMESTAMP),(NULL, '2024-09-08', '56', '1', '5', CURRENT_TIMESTAMP, CURRENT_TIMESTAMP),(NULL, '2024-09-08', '153', '1', '5', CURRENT_TIMESTAMP, CURRENT_TIMESTAMP),(NULL, '2024-09-08', '87', '1', '5', CURRENT_TIMESTAMP, CURRENT_TIMESTAMP),(NULL, '2024-09-08', '133', '1', '5', CURRENT_TIMESTAMP, CURRENT_TIMESTAMP),(NULL, '2024-09-08', '88', '1', '5', CURRENT_TIMESTAMP, CURRENT_TIMESTAMP),(NULL, '2024-09-08', '71', '1', '5', CURRENT_TIMESTAMP, CURRENT_TIMESTAMP),(NULL, '2024-09-08', '55', '1', '5', CURRENT_TIMESTAMP, CURRENT_TIMESTAMP),(NULL, '2024-09-09', '57', '1', '5', CURRENT_TIMESTAMP, CURRENT_TIMESTAMP),(NULL, '2024-09-09', '54', '1', '5', CURRENT_TIMESTAMP, CURRENT_TIMESTAMP),(NULL, '2024-09-09', '156', '1', '5', CURRENT_TIMESTAMP, CURRENT_TIMESTAMP),(NULL, '2024-09-09', '88', '1', '5', CURRENT_TIMESTAMP, CURRENT_TIMESTAMP),(NULL, '2024-09-09', '21', '1', '5', CURRENT_TIMESTAMP, CURRENT_TIMESTAMP),(NULL, '2024-09-09', '71', '1', '5', CURRENT_TIMESTAMP, CURRENT_TIMESTAMP),(NULL, '2024-09-09', '73', '1', '5', CURRENT_TIMESTAMP, CURRENT_TIMESTAMP),(NULL, '2024-09-09', '81', '1', '5', CURRENT_TIMESTAMP, CURRENT_TIMESTAMP),(NULL, '2024-09-09', '67', '1', '5', CURRENT_TIMESTAMP, CURRENT_TIMESTAMP),(NULL, '2024-09-10', '88', '1', '5', CURRENT_TIMESTAMP, CURRENT_TIMESTAMP),(NULL, '2024-09-11', '149', '1', '5', CURRENT_TIMESTAMP, CURRENT_TIMESTAMP),(NULL, '2024-09-12', '56', '1', '5', CURRENT_TIMESTAMP, CURRENT_TIMESTAMP),(NULL, '2024-09-12', '54', '3', '5', CURRENT_TIMESTAMP, CURRENT_TIMESTAMP),(NULL, '2024-09-12', '141', '1', '5', CURRENT_TIMESTAMP, CURRENT_TIMESTAMP),(NULL, '2024-09-12', '134', '1', '5', CURRENT_TIMESTAMP, CURRENT_TIMESTAMP),(NULL, '2024-09-12', '128', '1', '5', CURRENT_TIMESTAMP, CURRENT_TIMESTAMP),(NULL, '2024-09-12', '25', '1', '5', CURRENT_TIMESTAMP, CURRENT_TIMESTAMP),(NULL, '2024-09-12', '123', '1', '5', CURRENT_TIMESTAMP, CURRENT_TIMESTAMP),(NULL, '2024-09-12', '115', '1', '5', CURRENT_TIMESTAMP, CURRENT_TIMESTAMP),(NULL, '2024-09-12', '83', '1', '5', CURRENT_TIMESTAMP, CURRENT_TIMESTAMP),(NULL, '2024-09-12', '76', '1', '5', CURRENT_TIMESTAMP, CURRENT_TIMESTAMP),(NULL, '2024-09-12', '81', '1', '5', CURRENT_TIMESTAMP, CURRENT_TIMESTAMP),(NULL, '2024-09-12', '91', '1', '5', CURRENT_TIMESTAMP, CURRENT_TIMESTAMP),(NULL, '2024-09-14', '56', '1', '5', CURRENT_TIMESTAMP, CURRENT_TIMESTAMP),(NULL, '2024-09-14', '54', '2', '5', CURRENT_TIMESTAMP, CURRENT_TIMESTAMP),(NULL, '2024-09-14', '88', '1', '5', CURRENT_TIMESTAMP, CURRENT_TIMESTAMP),(NULL, '2024-09-14', '71', '1', '5', CURRENT_TIMESTAMP, CURRENT_TIMESTAMP),(NULL, '2024-09-14', '83', '1', '5', CURRENT_TIMESTAMP, CURRENT_TIMESTAMP),(NULL, '2024-09-14', '81', '1', '5', CURRENT_TIMESTAMP, CURRENT_TIMESTAMP),(NULL, '2024-09-15', '54', '3', '5', CURRENT_TIMESTAMP, CURRENT_TIMESTAMP),(NULL, '2024-09-15', '156', '1', '5', CURRENT_TIMESTAMP, CURRENT_TIMESTAMP),(NULL, '2024-09-15', '153', '1', '5', CURRENT_TIMESTAMP, CURRENT_TIMESTAMP),(NULL, '2024-09-15', '123', '1', '5', CURRENT_TIMESTAMP, CURRENT_TIMESTAMP),(NULL, '2024-09-15', '34', '1', '5', CURRENT_TIMESTAMP, CURRENT_TIMESTAMP),(NULL, '2024-09-15', '81', '2', '5', CURRENT_TIMESTAMP, CURRENT_TIMESTAMP),(NULL, '2024-09-16', '56', '1', '5', CURRENT_TIMESTAMP, CURRENT_TIMESTAMP),(NULL, '2024-09-16', '54', '2', '5', CURRENT_TIMESTAMP, CURRENT_TIMESTAMP),(NULL, '2024-09-16', '156', '1', '5', CURRENT_TIMESTAMP, CURRENT_TIMESTAMP),(NULL, '2024-09-16', '148', '1', '5', CURRENT_TIMESTAMP, CURRENT_TIMESTAMP),(NULL, '2024-09-16', '87', '1', '5', CURRENT_TIMESTAMP, CURRENT_TIMESTAMP),(NULL, '2024-09-16', '140', '1', '5', CURRENT_TIMESTAMP, CURRENT_TIMESTAMP),(NULL, '2024-09-16', '83', '2', '5', CURRENT_TIMESTAMP, CURRENT_TIMESTAMP),(NULL, '2024-09-16', '75', '1', '5', CURRENT_TIMESTAMP, CURRENT_TIMESTAMP),(NULL, '2024-09-17', '54', '2', '5', CURRENT_TIMESTAMP, CURRENT_TIMESTAMP),(NULL, '2024-09-17', '148', '1', '5', CURRENT_TIMESTAMP, CURRENT_TIMESTAMP),(NULL, '2024-09-18', '56', '1', '5', CURRENT_TIMESTAMP, CURRENT_TIMESTAMP),(NULL, '2024-09-18', '156', '1', '5', CURRENT_TIMESTAMP, CURRENT_TIMESTAMP),(NULL, '2024-09-18', '148', '1', '5', CURRENT_TIMESTAMP, CURRENT_TIMESTAMP),(NULL, '2024-09-18', '149', '1', '5', CURRENT_TIMESTAMP, CURRENT_TIMESTAMP),(NULL, '2024-09-18', '71', '1', '5', CURRENT_TIMESTAMP, CURRENT_TIMESTAMP),(NULL, '2024-09-18', '76', '1', '5', CURRENT_TIMESTAMP, CURRENT_TIMESTAMP),(NULL, '2024-09-18', '75', '1', '5', CURRENT_TIMESTAMP, CURRENT_TIMESTAMP),(NULL, '2024-09-19', '54', '1', '5', CURRENT_TIMESTAMP, CURRENT_TIMESTAMP),(NULL, '2024-09-19', '156', '1', '5', CURRENT_TIMESTAMP, CURRENT_TIMESTAMP),(NULL, '2024-09-19', '76', '1', '5', CURRENT_TIMESTAMP, CURRENT_TIMESTAMP),(NULL, '2024-09-20', '54', '1', '5', CURRENT_TIMESTAMP, CURRENT_TIMESTAMP),(NULL, '2024-09-21', '87', '1', '5', CURRENT_TIMESTAMP, CURRENT_TIMESTAMP),(NULL, '2024-09-21', '71', '1', '5', CURRENT_TIMESTAMP, CURRENT_TIMESTAMP),(NULL, '2024-09-22', '54', '1', '5', CURRENT_TIMESTAMP, CURRENT_TIMESTAMP),(NULL, '2024-09-22', '141', '1', '5', CURRENT_TIMESTAMP, CURRENT_TIMESTAMP),(NULL, '2024-09-22', '19', '1', '5', CURRENT_TIMESTAMP, CURRENT_TIMESTAMP),(NULL, '2024-09-23', '87', '1', '5', CURRENT_TIMESTAMP, CURRENT_TIMESTAMP),(NULL, '2024-09-23', '141', '1', '5', CURRENT_TIMESTAMP, CURRENT_TIMESTAMP),(NULL, '2024-09-23', '89', '1', '5', CURRENT_TIMESTAMP, CURRENT_TIMESTAMP),(NULL, '2024-09-24', '141', '1', '5', CURRENT_TIMESTAMP, CURRENT_TIMESTAMP),(NULL, '2024-09-24', '88', '1', '5', CURRENT_TIMESTAMP, CURRENT_TIMESTAMP),(NULL, '2024-09-24', '75', '1', '5', CURRENT_TIMESTAMP, CURRENT_TIMESTAMP),(NULL, '2024-09-25', '127', '1', '5', CURRENT_TIMESTAMP, CURRENT_TIMESTAMP),(NULL, '2024-09-25', '82', '1', '5', CURRENT_TIMESTAMP, CURRENT_TIMESTAMP),(NULL, '2024-09-25', '72', '1', '5', CURRENT_TIMESTAMP, CURRENT_TIMESTAMP),(NULL, '2024-09-25', '80', '1', '5', CURRENT_TIMESTAMP, CURRENT_TIMESTAMP),(NULL, '2024-09-26', '54', '2', '5', CURRENT_TIMESTAMP, CURRENT_TIMESTAMP),(NULL, '2024-09-26', '156', '1', '5', CURRENT_TIMESTAMP, CURRENT_TIMESTAMP),(NULL, '2024-09-26', '88', '1', '5', CURRENT_TIMESTAMP, CURRENT_TIMESTAMP),(NULL, '2024-09-26', '76', '2', '5', CURRENT_TIMESTAMP, CURRENT_TIMESTAMP),(NULL, '2024-09-28', '54', '2', '5', CURRENT_TIMESTAMP, CURRENT_TIMESTAMP),(NULL, '2024-09-28', '156', '1', '5', CURRENT_TIMESTAMP, CURRENT_TIMESTAMP),(NULL, '2024-09-28', '149', '1', '5', CURRENT_TIMESTAMP, CURRENT_TIMESTAMP),(NULL, '2024-09-28', '88', '1', '5', CURRENT_TIMESTAMP, CURRENT_TIMESTAMP),(NULL, '2024-09-29', '76', '1', '5', CURRENT_TIMESTAMP, CURRENT_TIMESTAMP),(NULL, '2024-10-01', '156', '1', '5', CURRENT_TIMESTAMP, CURRENT_TIMESTAMP),(NULL, '2024-10-01', '88', '1', '5', CURRENT_TIMESTAMP, CURRENT_TIMESTAMP),(NULL, '2024-10-01', '76', '1', '5', CURRENT_TIMESTAMP, CURRENT_TIMESTAMP),(NULL, '2024-10-02', '54', '2', '5', CURRENT_TIMESTAMP, CURRENT_TIMESTAMP),(NULL, '2024-10-02', '115', '1', '5', CURRENT_TIMESTAMP, CURRENT_TIMESTAMP),(NULL, '2024-10-03', '134', '1', '5', CURRENT_TIMESTAMP, CURRENT_TIMESTAMP),(NULL, '2024-10-03', '72', '1', '5', CURRENT_TIMESTAMP, CURRENT_TIMESTAMP),(NULL, '2024-10-03', '76', '1', '5', CURRENT_TIMESTAMP, CURRENT_TIMESTAMP),(NULL, '2024-10-05', '56', '1', '5', CURRENT_TIMESTAMP, CURRENT_TIMESTAMP),(NULL, '2024-10-05', '153', '1', '5', CURRENT_TIMESTAMP, CURRENT_TIMESTAMP),(NULL, '2024-10-05', '71', '1', '5', CURRENT_TIMESTAMP, CURRENT_TIMESTAMP),(NULL, '2024-10-05', '83', '1', '5', CURRENT_TIMESTAMP, CURRENT_TIMESTAMP),(NULL, '2024-10-05', '75', '2', '5', CURRENT_TIMESTAMP, CURRENT_TIMESTAMP),(NULL, '2024-10-05', '81', '1', '5', CURRENT_TIMESTAMP, CURRENT_TIMESTAMP),\n"
     ]
    }
   ],
   "source": [
    "today = date.today()\n",
    "prediction_dates = [today + timedelta(days = i) for i in range(30)]\n",
    "\n",
    "sql = \"INSERT INTO `predictions` (`id`, `date`, `product_id`, `unit`, `user_id`, `created_at`, `updated_at`) VALUES \"\n",
    "\n",
    "for date in prediction_dates:\n",
    "    result = classifier.predict(pd.DataFrame({'day_of_year': date.timetuple().tm_yday, 'month':date.month, 'day_of_week':date.weekday()}, index = [0]))\n",
    "    i = 0\n",
    "    for value in result[0]:\n",
    "        if not value == 0:\n",
    "            sql += \"(NULL, '\" + str(date) + \"', '\" + str(product_data['id'][i]) + \"', '\" + str(value) + \"', '5', CURRENT_TIMESTAMP, CURRENT_TIMESTAMP),\"\n",
    "        i += 1\n",
    "print(sql)"
   ]
  },
  {
   "cell_type": "code",
   "execution_count": null,
   "metadata": {},
   "outputs": [],
   "source": []
  }
 ],
 "metadata": {
  "kernelspec": {
   "display_name": "Python 3",
   "language": "python",
   "name": "python3"
  },
  "language_info": {
   "codemirror_mode": {
    "name": "ipython",
    "version": 3
   },
   "file_extension": ".py",
   "mimetype": "text/x-python",
   "name": "python",
   "nbconvert_exporter": "python",
   "pygments_lexer": "ipython3",
   "version": "3.11.9"
  }
 },
 "nbformat": 4,
 "nbformat_minor": 2
}
